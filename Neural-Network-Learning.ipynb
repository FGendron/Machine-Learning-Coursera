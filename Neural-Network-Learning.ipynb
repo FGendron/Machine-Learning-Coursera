{
 "cells": [
  {
   "cell_type": "markdown",
   "metadata": {},
   "source": [
    "# <font color=red> Machine Learning Course on Coursera </font>\n",
    "## Programming Exercise 4: <font color=blue>Neural Network Learning</font>"
   ]
  },
  {
   "cell_type": "markdown",
   "metadata": {},
   "source": [
    "## <font color=green>Neural Network  </font>\n",
    ">In the previous exercise, you implemented feedforward propagation for neural networks and used it to predict handwritten digits with the weights we provided. In this exercise, you will implement the backpropagation algorithm to learn the parameters for the neural network.\n"
   ]
  },
  {
   "cell_type": "code",
   "execution_count": 1,
   "metadata": {
    "collapsed": true
   },
   "outputs": [],
   "source": [
    "# Scientific and vector computation for python\n",
    "import numpy as np\n",
    "\n",
    "# Plotting library\n",
    "import matplotlib.pyplot as plt\n",
    "\n",
    "# Optimization module in scipy\n",
    "from scipy import optimize\n",
    "\n",
    "# will be used to load MATLAB mat datafile format\n",
    "from scipy.io import loadmat\n",
    "\n",
    "# will be used to transform the y\n",
    "from pandas import get_dummies\n",
    "\n",
    "# import of my own functions\n",
    "import my_ML_functions\n",
    "#set up\n",
    "sigmoid = my_ML_functions.sigmoid\n",
    "\n",
    "# tells matplotlib to embed plots within the notebook\n",
    "%matplotlib inline"
   ]
  },
  {
   "cell_type": "markdown",
   "metadata": {},
   "source": [
    "## Let's first import the data and visualize it"
   ]
  },
  {
   "cell_type": "code",
   "execution_count": 2,
   "metadata": {
    "collapsed": true
   },
   "outputs": [],
   "source": [
    "# 20x20 Input Images of Digits\n",
    "input_layer_size  = 400\n",
    "\n",
    "# 10 labels, from 1 to 10 (note that we have mapped \"0\" to label 10)\n",
    "num_labels = 10\n",
    "\n",
    "#  training data stored in arrays X, y\n",
    "data = loadmat('Data/MultiClass-ex3data1.mat')\n",
    "X, y = data['X'], data['y'].ravel()\n",
    "\n",
    "# set the zero digit to 0, rather than its mapped 10 in this dataset\n",
    "# This is an artifact due to the fact that this dataset was used in \n",
    "# MATLAB where there is no index 0\n",
    "y[y == 10] = 0\n",
    "\n",
    "m = y.size"
   ]
  },
  {
   "cell_type": "code",
   "execution_count": 379,
   "metadata": {},
   "outputs": [
    {
     "data": {
      "image/png": "[encoded data removed]",
      "text/plain": [
       "<Figure size 432x288 with 1 Axes>"
      ]
     },
     "metadata": {},
     "output_type": "display_data"
    }
   ],
   "source": [
    "# Load randomly an image of the data set\n",
    "item = np.random.randint(m)\n",
    "img = X[item]\n",
    "plt.imshow(img.reshape(20,20),cmap = plt.cm.Greys);"
   ]
  },
  {
   "cell_type": "markdown",
   "metadata": {},
   "source": [
    "## Feedforward and Costfunction"
   ]
  },
  {
   "cell_type": "code",
   "execution_count": 4,
   "metadata": {},
   "outputs": [],
   "source": [
    "# Loading the already optmized weights Theta_1 and Theta_2\n",
    "weights =loadmat('Data/NeuralNet-ex4weights.mat')\n",
    "Theta1,Theta2 = weights['Theta1'],weights['Theta2']\n",
    "# swap first and last columns of Theta2, due to legacy from MATLAB indexing, \n",
    "# since the weight file ex3weights.mat was saved based on MATLAB indexing\n",
    "Theta2 = np.roll(Theta2, 1, axis=0)"
   ]
  },
  {
   "cell_type": "code",
   "execution_count": 338,
   "metadata": {
    "collapsed": true
   },
   "outputs": [],
   "source": [
    "# Setup nnparam: Use ravel to transfrom matrix in vectors\n",
    "nnparam = np.concatenate([Theta1.ravel(),Theta2.ravel()])\n",
    "\n",
    "# Buil my model\n",
    "input_layer_size = 400\n",
    "hidden_layer_size = 25\n",
    "num_labels = 10"
   ]
  },
  {
   "cell_type": "code",
   "execution_count": 5,
   "metadata": {
    "collapsed": true
   },
   "outputs": [],
   "source": [
    "def nnCostFunction(nnparam,input_layer_size,hidden_layer_size,num_labels,X,y,Lambda):\n",
    "    \"\"\"Calculate the neural network cost and gradient regulaized functions\n",
    "    Parameters:\n",
    "    nnparam = vector that contains the weights\n",
    "    input_layer_size = number of nodes in input layer\n",
    "    hidden_layer_size = number of nodes in hidden layer\n",
    "    num_labels = number of nodes in output layer\n",
    "    X = matrices of m x n \n",
    "    \"\"\"\n",
    "    # First reshape the weight matrices\n",
    "    Theta_1 = np.reshape(nnparam[:hidden_layer_size * (input_layer_size + 1)],\n",
    "                     (hidden_layer_size, (input_layer_size + 1)))\n",
    "\n",
    "    Theta_2 = np.reshape(nnparam[hidden_layer_size * (input_layer_size + 1):],\n",
    "                     (num_labels, (hidden_layer_size + 1)))\n",
    "    \n",
    "    # add ones to Xp\n",
    "    m,n = X.shape\n",
    "    ones = np.ones((m,1))\n",
    "    Xp = np.concatenate([ones,X],axis=1)\n",
    "\n",
    "    # reshape the y\n",
    "    y = get_dummies(y)\n",
    "    \n",
    "    #feedforward propagation\n",
    "    z2 = Xp.dot(Theta_1.T)\n",
    "    a2 = sigmoid(z2)\n",
    "    #a2 = np.concatenate([ones,a2],axis=1)\n",
    "    a2 = np.concatenate([np.ones((a2.shape[0], 1)), a2], axis=1)\n",
    "    #a2.shape,Theta2.shape\n",
    "    z3 = a2.dot(Theta_2.T)\n",
    "    a3 = sigmoid(z3)\n",
    "    \n",
    "    #regularization cost\n",
    "    reg = np.sum(np.sum(np.square(Theta_1[0:,1:]))) + np.sum(np.sum(np.square(Theta_2[0:,1:])))\n",
    "    #cost function\n",
    "    J = (-1 / m) * np.sum(np.sum(y*np.log(a3) + (1-y)*np.log(1 - a3))) + (Lambda / (2 * m)) * reg\n",
    "    \n",
    "    return J"
   ]
  },
  {
   "cell_type": "code",
   "execution_count": 341,
   "metadata": {},
   "outputs": [
    {
     "data": {
      "text/plain": [
       "0.28762916516131876"
      ]
     },
     "execution_count": 341,
     "metadata": {},
     "output_type": "execute_result"
    }
   ],
   "source": [
    "# Testing you nnCostfunction\n",
    "# with Lambda = 0, Cost = 0.287629\n",
    "# with Lambda = 1, Cost = 0.383770\n",
    "Lambda = 0\n",
    "cost,grad = nnCostFunction(nnparam,input_layer_size,hidden_layer_size,num_labels,X,y,Lambda)\n",
    "cost"
   ]
  },
  {
   "cell_type": "markdown",
   "metadata": {},
   "source": [
    "## Implementing BackPropagation\n",
    "In this part of the exercise, you will implement the backpropagation algorithm to compute the gradient for the neural network cost function. You will need to complete the nnCostFunction.m so that it returns an appropriate value for grad. Once you have computed the gradient, you will be able to train the neural network by minimizing the cost function J(Θ) "
   ]
  },
  {
   "cell_type": "code",
   "execution_count": 342,
   "metadata": {
    "collapsed": true
   },
   "outputs": [],
   "source": [
    "def sigmoid_deriv(z):\n",
    "    \"\"\"Calculate the derivative of the sigmoid function\n",
    "    \"\"\"\n",
    "    sig_deriv = sigmoid(z) * (1 - sigmoid(z))\n",
    "    return sig_deriv"
   ]
  },
  {
   "cell_type": "code",
   "execution_count": 343,
   "metadata": {
    "collapsed": true
   },
   "outputs": [],
   "source": [
    "def nnCostFunction(nnparams,input_layer_size,hidden_layer_size,num_labels,X,y,Lambda):\n",
    "    \"\"\"Calculate the neural network cost and gradient regulaized functions\n",
    "    Parameters:\n",
    "    nnparam = vector that contains the weights\n",
    "    input_layer_size = number of nodes in input layer\n",
    "    hidden_layer_size = number of nodes in hidden layer\n",
    "    num_labels = number of nodes in output layer\n",
    "    X = matrices of m x n \n",
    "    \"\"\"\n",
    "    # First reshape the weight matrices\n",
    "    Theta_1 = np.reshape(nnparams[:hidden_layer_size * (input_layer_size + 1)],\n",
    "                     (hidden_layer_size, (input_layer_size + 1)))\n",
    "\n",
    "    Theta_2 = np.reshape(nnparams[hidden_layer_size * (input_layer_size + 1):],\n",
    "                     (num_labels, (hidden_layer_size + 1)))\n",
    "    \n",
    "    # add ones to Xp\n",
    "    m,n = X.shape\n",
    "    ones = np.ones((m,1))\n",
    "    Xp = np.concatenate([ones,X],axis=1)\n",
    "\n",
    "    # reshape the y\n",
    "    Y = get_dummies(y)\n",
    "    \n",
    "    #feedforward propagation\n",
    "    z2 = Xp.dot(Theta_1.T)\n",
    "    a2 = sigmoid(z2)\n",
    "    #a2 = np.concatenate([ones,a2],axis=1)\n",
    "    a2 = np.concatenate([np.ones((a2.shape[0], 1)), a2], axis=1)\n",
    "    #a2.shape,Theta2.shape\n",
    "    z3 = a2.dot(Theta_2.T)\n",
    "    a3 = sigmoid(z3)\n",
    "    \n",
    "    #regularization cost\n",
    "    reg = np.sum(np.sum(np.square(Theta_1[0:,1:]))) + np.sum(np.sum(np.square(Theta_2[0:,1:])))\n",
    "    #cost function\n",
    "    J = (-1 / m) * np.sum(np.sum(Y*np.log(a3) + (1-Y)*np.log(1 - a3))) + (Lambda / (2 * m)) * reg\n",
    "    \n",
    "    #back propagation\n",
    "    delta_3 =  a3 - Y.values\n",
    "    delta_2 = (delta_3 @ Theta_2) * sigmoid_deriv(np.concatenate([np.ones((z2.shape[0],1)),z2[:,:]],axis=1))\n",
    "    delta_2 = delta_2[:,1:]\n",
    "    \n",
    "    Delta_2 = delta_3.T.dot(a2)\n",
    "    Delta_1 = delta_2.T.dot(Xp)\n",
    "\n",
    "    #gradients\n",
    "    temp1 = np.concatenate([np.zeros((Theta_1.shape[0],1)),Theta_1[:,1:]],axis=1)\n",
    "    temp2 = np.concatenate([np.zeros((Theta_2.shape[0],1)),Theta_2[:,1:]],axis=1)\n",
    "    \n",
    "    grad_1 = (1 / m) * Delta_1 + (Lambda / m) * temp1\n",
    "    grad_2 = (1 / m) * Delta_2 + (Lambda / m) * temp2\n",
    "    \n",
    "    grad = np.concatenate([grad_1.ravel(),grad_2.ravel()])\n",
    "\n",
    "    return J, grad "
   ]
  },
  {
   "cell_type": "markdown",
   "metadata": {},
   "source": [
    "## Checking Gradients"
   ]
  },
  {
   "cell_type": "code",
   "execution_count": 344,
   "metadata": {
    "collapsed": true
   },
   "outputs": [],
   "source": [
    "def computeNumericalGradient(J, theta, e=1e-4):\n",
    "    \"\"\"\n",
    "    Computes the gradient using finite differences\"\n",
    "    \"\"\"\n",
    "    numgrad = np.zeros(theta.shape)\n",
    "    perturb = np.diag(e * np.ones(theta.shape))\n",
    "    for i in range(theta.size):\n",
    "        loss1, _ = J(theta - perturb[:, i])\n",
    "        loss2, _ = J(theta + perturb[:, i])\n",
    "        numgrad[i] = (loss2 - loss1)/(2*e)\n",
    "    return numgrad"
   ]
  },
  {
   "cell_type": "code",
   "execution_count": 354,
   "metadata": {},
   "outputs": [
    {
     "name": "stdout",
     "output_type": "stream",
     "text": [
      "[[0.01818218 0.01818218]\n",
      " [0.01040637 0.01040637]\n",
      " [0.00706085 0.00706085]\n",
      " [0.0118763  0.0118763 ]\n",
      " [0.00874809 0.00874809]\n",
      " [0.01114942 0.01114942]\n",
      " [0.06360681 0.06360681]\n",
      " [0.03098065 0.03098065]\n",
      " [0.02419464 0.02419464]\n",
      " [0.03906456 0.03906456]\n",
      " [0.03131861 0.03131861]\n",
      " [0.04023647 0.04023647]\n",
      " [0.04432645 0.04432645]\n",
      " [0.02757561 0.02757561]\n",
      " [0.01990417 0.01990417]\n",
      " [0.0287708  0.0287708 ]\n",
      " [0.01954413 0.01954413]\n",
      " [0.02604778 0.02604778]\n",
      " [0.5982196  0.5982196 ]\n",
      " [0.4723676  0.4723676 ]\n",
      " [0.47894738 0.47894738]\n",
      " [0.4994032  0.4994032 ]\n",
      " [0.35265865 0.35265865]\n",
      " [0.27888686 0.27888686]\n",
      " [0.2865675  0.2865675 ]\n",
      " [0.29555322 0.29555322]\n",
      " [0.28692582 0.28692582]\n",
      " [0.23275119 0.23275119]\n",
      " [0.23964323 0.23964323]\n",
      " [0.25258853 0.25258853]]\n"
     ]
    }
   ],
   "source": [
    "# Build a small Neural Network to check your gradients\n",
    "input_layer_size = 5\n",
    "hidden_layer_size = 3\n",
    "num_labels = 3\n",
    "m = 5\n",
    "Lambda = 0\n",
    "\n",
    "# Generates random weights, inputs and outputs\n",
    "np.random.seed(2)\n",
    "Theta1 = np.random.rand(hidden_layer_size, input_layer_size + 1)\n",
    "Theta2 = np.random.rand(num_labels,hidden_layer_size + 1)\n",
    "\n",
    "X_t = np.random.rand(m,input_layer_size)\n",
    "y_t = np.arange(1, 1+m) % num_labels\n",
    "\n",
    "# Unroll parameters\n",
    "nnparams = np.concatenate([Theta1.ravel(), Theta2.ravel()])\n",
    "\n",
    "# short hand for cost function\n",
    "costFunc = lambda p: nnCostFunction(p, input_layer_size, hidden_layer_size,\n",
    "                                        num_labels, X_t, y_t, Lambda)\n",
    "\n",
    "# Calculate the gradients with your nnCostFunction and the finite size gradients\n",
    "cost, grad = costFunc(nnparams)\n",
    "numgrad = computeNumericalGradient(costFunc,nnparams)\n",
    "\n",
    "# Compare the results of the two codes: Should be almost exactly the same\n",
    "print(np.stack([numgrad,grad], axis=1))"
   ]
  },
  {
   "cell_type": "markdown",
   "metadata": {},
   "source": [
    "## Training Neural Network\n",
    "> You can play with the Lambda value and with the number of nodes in the hidden layer to improve the accuracy of the neural network"
   ]
  },
  {
   "cell_type": "code",
   "execution_count": 7,
   "metadata": {},
   "outputs": [],
   "source": [
    "# training data stored in arrays X, y\n",
    "data = loadmat('Data/MultiClass-ex3data1.mat')\n",
    "X, y = data['X'], data['y'].ravel()\n",
    "\n",
    "# set the zero digit to 0, rather than its mapped 10 in this dataset\n",
    "# This is an artifact due to the fact that this dataset was used in \n",
    "# MATLAB where there is no index 0\n",
    "y[y == 10] = 0\n",
    "\n",
    "# Build my model\n",
    "input_layer_size = 400\n",
    "hidden_layer_size = 100\n",
    "num_labels = 10\n",
    "Lambda = 1\n",
    "\n",
    "# random Initialization of the weights\n",
    "np.random.seed(1)\n",
    "Theta1 = 2*np.random.rand(hidden_layer_size,input_layer_size + 1) - 1\n",
    "Theta2 = 2*np.random.rand(num_labels,hidden_layer_size + 1) - 1\n",
    "\n",
    "# Setup nnparam: Use ravel to transfrom matrix in vectors\n",
    "nnparam = np.concatenate([Theta1.ravel(),Theta2.ravel()],axis=0)"
   ]
  },
  {
   "cell_type": "code",
   "execution_count": 364,
   "metadata": {},
   "outputs": [
    {
     "name": "stdout",
     "output_type": "stream",
     "text": [
      "Has my optimization converged ? False\n",
      "What is the func score ? 1.0079815739564881\n"
     ]
    }
   ],
   "source": [
    "# Compile the model\n",
    "options = {'maxiter': 100}\n",
    "comp = optimize.minimize(nnCostFunction,nnparam,(input_layer_size,hidden_layer_size,num_labels,X,y,Lambda),\n",
    "                 jac=True,method='TNC',options=options)\n",
    "\n",
    "# Reshape the optimized weights\n",
    "Theta1_opt = np.reshape(comp.x[:hidden_layer_size*(input_layer_size+1)],\n",
    "                        (hidden_layer_size,(input_layer_size +1)))\n",
    "Theta2_opt = np.reshape(comp.x[hidden_layer_size*(input_layer_size+1):],\n",
    "                        (num_labels,(hidden_layer_size +1)))\n",
    "comp.success\n",
    "comp\n",
    "print('Has my optimization converged ?',comp.success)\n",
    "print('What is the func score ?',comp.fun)"
   ]
  },
  {
   "cell_type": "markdown",
   "metadata": {},
   "source": [
    "> If you modify the number of iterations in the optimizer and you setup Lambda = 1, you can reach an accuracy of almost 100% for you neural network. A good case of overfitting !"
   ]
  },
  {
   "cell_type": "code",
   "execution_count": 374,
   "metadata": {},
   "outputs": [
    {
     "data": {
      "text/plain": [
       "96.82"
      ]
     },
     "execution_count": 374,
     "metadata": {},
     "output_type": "execute_result"
    }
   ],
   "source": [
    "# Deploy your Optimized Neural Net\n",
    "# add ones to Xp\n",
    "m,n = X.shape\n",
    "ones = np.ones((m,1))\n",
    "Xp = np.concatenate([ones,X],axis=1)\n",
    "    \n",
    "#feedforward propagation\n",
    "z2 = Xp.dot(Theta1_opt.T)\n",
    "a2 = sigmoid(z2)\n",
    "#a2 = np.concatenate([ones,a2],axis=1)\n",
    "a2 = np.concatenate([np.ones((a2.shape[0], 1)), a2], axis=1)\n",
    "#a2.shape,Theta2.shape\n",
    "z3 = a2.dot(Theta2_opt.T)\n",
    "a3 = sigmoid(z3)\n",
    "\n",
    "# Accuracy of the Neural Net\n",
    "prediction = np.argmax(a3,axis=1)\n",
    "prediction\n",
    "accuracy = np.mean(prediction == y) * 100\n",
    "accuracy"
   ]
  },
  {
   "cell_type": "markdown",
   "metadata": {},
   "source": [
    "## Visualize your Neural Net Prediction"
   ]
  },
  {
   "cell_type": "code",
   "execution_count": 375,
   "metadata": {},
   "outputs": [
    {
     "name": "stdout",
     "output_type": "stream",
     "text": [
      "My Neural Network prediction is a 7\n"
     ]
    },
    {
     "data": {
      "image/png": "[encoded data removed]",
      "text/plain": [
       "<Figure size 432x288 with 1 Axes>"
      ]
     },
     "metadata": {},
     "output_type": "display_data"
    }
   ],
   "source": [
    "# select a random image among the data set\n",
    "item = np.random.randint(m)\n",
    "#\n",
    "# What is the prediction of the Neural Net\n",
    "print('My Neural Network prediction is a',prediction[item])\n",
    "# plot the random image\n",
    "img = X[item]\n",
    "plt.imshow(img.reshape(20,20),cmap = plt.cm.Greys);"
   ]
  },
  {
   "cell_type": "markdown",
   "metadata": {
    "collapsed": true
   },
   "source": [
    "## Visualize the Hidden layer of the Neural Network"
   ]
  },
  {
   "cell_type": "code",
   "execution_count": 376,
   "metadata": {},
   "outputs": [
    {
     "name": "stdout",
     "output_type": "stream",
     "text": [
      "This is what the hidden node 16 sees\n"
     ]
    },
    {
     "data": {
      "image/png": "[encoded data removed]",
      "text/plain": [
       "<Figure size 432x288 with 1 Axes>"
      ]
     },
     "metadata": {},
     "output_type": "display_data"
    }
   ],
   "source": [
    "# select a random image among the data set\n",
    "item = np.random.randint(hidden_layer_size)\n",
    "#\n",
    "# What is the prediction of the Neural Net\n",
    "print('This is what the hidden node',item,'sees')\n",
    "# plot the random image\n",
    "img = Theta1_opt[item,1:]\n",
    "plt.imshow(img.reshape(20,20),cmap = plt.cm.Greys);"
   ]
  },
  {
   "cell_type": "markdown",
   "metadata": {},
   "source": [
    "Each hidden units is looking for one specific patern"
   ]
  },
  {
   "cell_type": "markdown",
   "metadata": {},
   "source": [
    "# Let's do it with Keras !!"
   ]
  },
  {
   "cell_type": "code",
   "execution_count": 9,
   "metadata": {
    "collapsed": true
   },
   "outputs": [],
   "source": [
    "from tensorflow.keras.models import Sequential\n",
    "from tensorflow.keras.layers import Dense\n",
    "from tensorflow.keras.utils import to_categorical\n",
    "from keras import optimizers"
   ]
  },
  {
   "cell_type": "code",
   "execution_count": 10,
   "metadata": {},
   "outputs": [
    {
     "name": "stdout",
     "output_type": "stream",
     "text": [
      "The number of training examples is of  5000\n"
     ]
    }
   ],
   "source": [
    "#Let's import again the data to avoid problems\n",
    "# training data stored in arrays X, y\n",
    "data = loadmat('Data/MultiClass-ex3data1.mat')\n",
    "X, y = data['X'], data['y'].ravel()\n",
    "\n",
    "# set the zero digit to 0, rather than its mapped 10 in this dataset\n",
    "# This is an artifact due to the fact that this dataset was used in \n",
    "# MATLAB where there is no index 0\n",
    "y[y == 10] = 0\n",
    "\n",
    "Y = to_categorical(y) # convert your y's into vectors like the get_dummies functions (super important !)\n",
    "\n",
    "m,n = X.shape\n",
    "print('The number of training examples is of ',m)"
   ]
  },
  {
   "cell_type": "code",
   "execution_count": 404,
   "metadata": {},
   "outputs": [
    {
     "name": "stdout",
     "output_type": "stream",
     "text": [
      "Epoch 1/10\n",
      "1000/1000 [==============================] - 2s 1ms/step - loss: 0.0999 - accuracy: 0.2753\n",
      "Epoch 2/10\n",
      "1000/1000 [==============================] - 1s 1ms/step - loss: 0.0718 - accuracy: 0.5883\n",
      "Epoch 3/10\n",
      "1000/1000 [==============================] - 1s 1ms/step - loss: 0.0517 - accuracy: 0.7408: \n",
      "Epoch 4/10\n",
      "1000/1000 [==============================] - 1s 1ms/step - loss: 0.0405 - accuracy: 0.8280\n",
      "Epoch 5/10\n",
      "1000/1000 [==============================] - 2s 2ms/step - loss: 0.0337 - accuracy: 0.8600\n",
      "Epoch 6/10\n",
      "1000/1000 [==============================] - 1s 1ms/step - loss: 0.0299 - accuracy: 0.8722\n",
      "Epoch 7/10\n",
      "1000/1000 [==============================] - 1s 1ms/step - loss: 0.0262 - accuracy: 0.8840\n",
      "Epoch 8/10\n",
      "1000/1000 [==============================] - 1s 1ms/step - loss: 0.0234 - accuracy: 0.8928\n",
      "Epoch 9/10\n",
      "1000/1000 [==============================] - 1s 1ms/step - loss: 0.0222 - accuracy: 0.8996\n",
      "Epoch 10/10\n",
      "1000/1000 [==============================] - 2s 2ms/step - loss: 0.0213 - accuracy: 0.8920\n"
     ]
    }
   ],
   "source": [
    "# Build the model: 3 layers input (400 nodes), hidden (25 nodes), output (10 nodes)\n",
    "model = Sequential([\n",
    "  Dense(25, activation='sigmoid', input_shape=(400,)),\n",
    "  Dense(10, activation='sigmoid'),\n",
    "])\n",
    "\n",
    "# Compiling the model\n",
    "sgd = optimizers.SGD(lr=0.5)\n",
    "model.compile(\n",
    "  optimizer=sgd, #another choice is adam\n",
    "  #optimizer='adam',\n",
    "  loss='mean_squared_error', # another choice is categorical_crossentropy\n",
    "  metrics=['accuracy'],\n",
    ")\n",
    "\n",
    "# Training the model\n",
    "model.fit(\n",
    "  X, # training data\n",
    "  Y, # training targets\n",
    "  epochs=10,\n",
    "  batch_size=5, #divide your data set in n batches\n",
    ");"
   ]
  },
  {
   "cell_type": "markdown",
   "metadata": {},
   "source": [
    "Let's now deploy the trained neural net !"
   ]
  },
  {
   "cell_type": "code",
   "execution_count": 432,
   "metadata": {},
   "outputs": [
    {
     "name": "stdout",
     "output_type": "stream",
     "text": [
      "My Neural Network prediction is a 8\n"
     ]
    },
    {
     "data": {
      "image/png": "[encoded data removed]",
      "text/plain": [
       "<Figure size 432x288 with 1 Axes>"
      ]
     },
     "metadata": {},
     "output_type": "display_data"
    }
   ],
   "source": [
    "# select a random image among the data set\n",
    "item = np.random.randint(m)\n",
    "#\n",
    "# What is the prediction of the Neural Net\n",
    "nnPredict = np.argmax(model.predict(X[item].reshape(1,-1)))\n",
    "print('My Neural Network prediction is a',nnPredict)\n",
    "# plot the random image\n",
    "img = X[item]\n",
    "plt.imshow(img.reshape(20,20),cmap = plt.cm.Greys);"
   ]
  },
  {
   "cell_type": "code",
   "execution_count": null,
   "metadata": {
    "collapsed": true
   },
   "outputs": [],
   "source": []
  }
 ],
 "metadata": {
  "kernelspec": {
   "display_name": "Python 3",
   "language": "python",
   "name": "python3"
  },
  "language_info": {
   "codemirror_mode": {
    "name": "ipython",
    "version": 3
   },
   "file_extension": ".py",
   "mimetype": "text/x-python",
   "name": "python",
   "nbconvert_exporter": "python",
   "pygments_lexer": "ipython3",
   "version": "3.6.8"
  }
 },
 "nbformat": 4,
 "nbformat_minor": 2
}
