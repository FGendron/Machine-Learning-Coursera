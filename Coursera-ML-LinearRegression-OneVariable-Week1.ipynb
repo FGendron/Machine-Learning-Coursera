{
 "cells": [
  {
   "cell_type": "markdown",
   "metadata": {},
   "source": [
    "# <font color=red> Machine Learning Course on Coursera </font>\n",
    "## Programming Exercise 1: <font color=blue>Linear Regression</font>"
   ]
  },
  {
   "cell_type": "markdown",
   "metadata": {},
   "source": [
    "## <font color=green>Linear regression with one variable</font>\n",
    ">In this part of this exercise, you will implement linear regression with one variable to predict profits for a food truck. Suppose you are the CEO of a restaurant franchise and are considering different cities for opening a new outlet. The chain already has trucks in various cities and you have data for profits and populations from the cities.\n",
    ">The file ex1data1.txt contains the dataset for our linear regression prob- lem. The first column is the population of a city and the second column is the profit of a food truck in that city. A negative value for profit indicates a loss."
   ]
  },
  {
   "cell_type": "code",
   "execution_count": 6,
   "metadata": {
    "collapsed": true
   },
   "outputs": [],
   "source": [
    "%matplotlib inline\n",
    "import numpy as np\n",
    "import pandas as pd\n",
    "import matplotlib.pyplot as plt\n",
    "plt.style.use('seaborn-white')\n",
    "#import seaborn as sns\n",
    "from mpl_toolkits.mplot3d import Axes3D\n",
    "#sns.set()"
   ]
  },
  {
   "cell_type": "code",
   "execution_count": 7,
   "metadata": {},
   "outputs": [],
   "source": [
    "data1 = pd.read_csv(\"linearReg-ex1dat1.csv\",names=['Population','Profit'])"
   ]
  },
  {
   "cell_type": "code",
   "execution_count": 8,
   "metadata": {},
   "outputs": [
    {
     "data": {
      "text/html": [
       "<div>\n",
       "<style>\n",
       "    .dataframe thead tr:only-child th {\n",
       "        text-align: right;\n",
       "    }\n",
       "\n",
       "    .dataframe thead th {\n",
       "        text-align: left;\n",
       "    }\n",
       "\n",
       "    .dataframe tbody tr th {\n",
       "        vertical-align: top;\n",
       "    }\n",
       "</style>\n",
       "<table border=\"1\" class=\"dataframe\">\n",
       "  <thead>\n",
       "    <tr style=\"text-align: right;\">\n",
       "      <th></th>\n",
       "      <th>Population</th>\n",
       "      <th>Profit</th>\n",
       "    </tr>\n",
       "  </thead>\n",
       "  <tbody>\n",
       "    <tr>\n",
       "      <th>0</th>\n",
       "      <td>6.1101</td>\n",
       "      <td>17.5920</td>\n",
       "    </tr>\n",
       "    <tr>\n",
       "      <th>1</th>\n",
       "      <td>5.5277</td>\n",
       "      <td>9.1302</td>\n",
       "    </tr>\n",
       "    <tr>\n",
       "      <th>2</th>\n",
       "      <td>8.5186</td>\n",
       "      <td>13.6620</td>\n",
       "    </tr>\n",
       "    <tr>\n",
       "      <th>3</th>\n",
       "      <td>7.0032</td>\n",
       "      <td>11.8540</td>\n",
       "    </tr>\n",
       "    <tr>\n",
       "      <th>4</th>\n",
       "      <td>5.8598</td>\n",
       "      <td>6.8233</td>\n",
       "    </tr>\n",
       "    <tr>\n",
       "      <th>5</th>\n",
       "      <td>8.3829</td>\n",
       "      <td>11.8860</td>\n",
       "    </tr>\n",
       "    <tr>\n",
       "      <th>6</th>\n",
       "      <td>7.4764</td>\n",
       "      <td>4.3483</td>\n",
       "    </tr>\n",
       "    <tr>\n",
       "      <th>7</th>\n",
       "      <td>8.5781</td>\n",
       "      <td>12.0000</td>\n",
       "    </tr>\n",
       "    <tr>\n",
       "      <th>8</th>\n",
       "      <td>6.4862</td>\n",
       "      <td>6.5987</td>\n",
       "    </tr>\n",
       "    <tr>\n",
       "      <th>9</th>\n",
       "      <td>5.0546</td>\n",
       "      <td>3.8166</td>\n",
       "    </tr>\n",
       "  </tbody>\n",
       "</table>\n",
       "</div>"
      ],
      "text/plain": [
       "   Population   Profit\n",
       "0      6.1101  17.5920\n",
       "1      5.5277   9.1302\n",
       "2      8.5186  13.6620\n",
       "3      7.0032  11.8540\n",
       "4      5.8598   6.8233\n",
       "5      8.3829  11.8860\n",
       "6      7.4764   4.3483\n",
       "7      8.5781  12.0000\n",
       "8      6.4862   6.5987\n",
       "9      5.0546   3.8166"
      ]
     },
     "execution_count": 8,
     "metadata": {},
     "output_type": "execute_result"
    }
   ],
   "source": [
    "#data1 = pd.DataFrame(ex1data1,columns=['Population','Profit'])\n",
    "data1.head(10)"
   ]
  },
  {
   "cell_type": "code",
   "execution_count": 9,
   "metadata": {},
   "outputs": [
    {
     "data": {
      "text/plain": [
       "<matplotlib.collections.PathCollection at 0x7fbc88bc44e0>"
      ]
     },
     "execution_count": 9,
     "metadata": {},
     "output_type": "execute_result"
    },
    {
     "data": {
      "image/png": "[encoded data removed]",
      "text/plain": [
       "<matplotlib.figure.Figure at 0x7fbc86c97748>"
      ]
     },
     "metadata": {},
     "output_type": "display_data"
    }
   ],
   "source": [
    "#plot of the Data\n",
    "fig = plt.figure(figsize=(12,8))\n",
    "plt.scatter(data1.Population,data1.Profit)"
   ]
  },
  {
   "cell_type": "code",
   "execution_count": 10,
   "metadata": {
    "collapsed": true
   },
   "outputs": [],
   "source": [
    "# Hypothesis function: h = theta_0 + theta_1*x\n",
    "theta = np.transpose(np.matrix([-1.5,1.0])) # initialization of theta matrix\n",
    "#xMat = np.transpose(np.matrix((np.ones(97),data1.Population.values))) # initialization of the X matrix\n",
    "xMat = np.c_[np.ones(97),data1.Population.values] # same as previous line\n",
    "yMat = np.transpose(np.matrix([data1.Profit.values])) # initialization  of the y matrix\n",
    "#print(theta)\n",
    "#print(xMat)\n",
    "#print(yMat)"
   ]
  },
  {
   "cell_type": "code",
   "execution_count": 11,
   "metadata": {},
   "outputs": [
    {
     "name": "stdout",
     "output_type": "stream",
     "text": [
      "5.089858120249485\n"
     ]
    }
   ],
   "source": [
    "# Compute the Cost Function J(theta)\n",
    "m = data1.Population.size #number of training example\n",
    "J = [] # The cost function as a vector\n",
    "error = (xMat @ theta) - yMat # What goes into the sum of the cost functionJ\n",
    "J = (1/(2*m))*np.sum(np.square(error.T))\n",
    "print(J)"
   ]
  },
  {
   "cell_type": "code",
   "execution_count": 12,
   "metadata": {
    "scrolled": true
   },
   "outputs": [
    {
     "data": {
      "image/png": "[encoded data removed]",
      "text/plain": [
       "<matplotlib.figure.Figure at 0x7fbc88b89cf8>"
      ]
     },
     "metadata": {},
     "output_type": "display_data"
    }
   ],
   "source": [
    "# Performe the batch gradient descent\n",
    "#\n",
    "# define the alpha parameters and number of iterations\n",
    "alpha = 0.01\n",
    "nIter = 500\n",
    "#\n",
    "# generate list of theta for plots\n",
    "myTheta0 = []\n",
    "myTheta1 = []\n",
    "myJ = []\n",
    "for i in range(nIter):\n",
    "    error = (xMat @ theta) - yMat # What goes into the sum of the cost functionJ\n",
    "    theta_0 = theta[0] - alpha * (1/m)*np.sum(error)\n",
    "    theta_1 = theta[1] - alpha * (1/m)*np.sum(error.T @ xMat)\n",
    "    #print(theta_0)\n",
    "    theta[0] = theta_0\n",
    "    theta[1] = theta_1\n",
    "    myTheta0.append(theta_0[0,0]) \n",
    "    myTheta1.append(theta_1[0,0]) \n",
    "    #gradient = alpha * (1/m) * (error.T @ xMat)\n",
    "    #theta = theta - gradient\n",
    "    #theta = theta_tmp\n",
    "    #print(error)\n",
    "    J = (1/(2*m))*np.sum(np.square(error.T))\n",
    "    myJ.append(J)\n",
    "    #print(J)\n",
    "    plt.scatter(i,J)\n",
    "\n",
    "#print(theta)"
   ]
  },
  {
   "cell_type": "code",
   "execution_count": 13,
   "metadata": {
    "collapsed": true
   },
   "outputs": [],
   "source": [
    "## To make 2D plot (use a lot of mem)\n",
    "#from matplotlib import cm\n",
    "#\n",
    "#myTheta0,myTheta1 = np.meshgrid(myTheta0,myTheta1)\n",
    "#\n",
    "##fig, ax = plt.subplots(subplot_kw={\"projection\": \"3d\"})\n",
    "#ax.plot_surface(myTheta0,myTheta1,myJ,cmap=cm.coolwarm,linewidth=0, antialiased=True)\n",
    "#ax.xlabel('Theta0')\n",
    "#\n",
    "#fig = plt.figure()\n",
    "#ax = fig.gca(projection='3d')\n",
    "#ax.plot_surface(myTheta0,myTheta1,myJ,cmap=plt.cm.viridis,linewidth=10)"
   ]
  },
  {
   "cell_type": "markdown",
   "metadata": {},
   "source": [
    "### Let's get the results of the Linear Regression"
   ]
  },
  {
   "cell_type": "code",
   "execution_count": 14,
   "metadata": {},
   "outputs": [
    {
     "name": "stdout",
     "output_type": "stream",
     "text": [
      "The Algortihm gives the following hypothesis function:\n",
      "h =  -3.8951271445359463  +  1.1929666633737799 times x\n",
      "The cost funtion gives  4.476971415095576\n",
      "According to the population of my city, my profit would be  8.034539489201853 $\n"
     ]
    }
   ],
   "source": [
    "results = xMat @ theta\n",
    "#print(results)\n",
    "# What is the population of your city ?\n",
    "x_pop = 10.0\n",
    "my_profit = theta[0] + x_pop*theta[1]\n",
    "#print(my_profit[0,0])\n",
    "print('The Algortihm gives the following hypothesis function:')\n",
    "print('h = ',theta[0,0],' + ',theta[1,0],'times x')\n",
    "print('The cost funtion gives ',J)\n",
    "print('According to the population of my city, my profit would be ',my_profit[0,0], '$')"
   ]
  },
  {
   "cell_type": "code",
   "execution_count": 15,
   "metadata": {},
   "outputs": [
    {
     "data": {
      "text/plain": [
       "<matplotlib.figure.Figure at 0x7fbc88bd88d0>"
      ]
     },
     "metadata": {},
     "output_type": "display_data"
    },
    {
     "data": {
      "image/png": "[encoded data removed]",
      "text/plain": [
       "<matplotlib.figure.Figure at 0x7fbc88b89b38>"
      ]
     },
     "metadata": {},
     "output_type": "display_data"
    }
   ],
   "source": [
    "fig =plt.figure(figsize=(12,8))\n",
    "fig = plt.figure(figsize=(12,8))\n",
    "plt.scatter(data1.Population,data1.Profit)\n",
    "plt.plot(data1.Population,results)\n",
    "plt.scatter(x_pop,my_profit[0,0],s = 60,c='red')\n",
    "plt.show()"
   ]
  },
  {
   "cell_type": "code",
   "execution_count": null,
   "metadata": {
    "collapsed": true
   },
   "outputs": [],
   "source": []
  }
 ],
 "metadata": {
  "kernelspec": {
   "display_name": "Python 3",
   "language": "python",
   "name": "python3"
  },
  "language_info": {
   "codemirror_mode": {
    "name": "ipython",
    "version": 3
   },
   "file_extension": ".py",
   "mimetype": "text/x-python",
   "name": "python",
   "nbconvert_exporter": "python",
   "pygments_lexer": "ipython3",
   "version": "3.6.8"
  }
 },
 "nbformat": 4,
 "nbformat_minor": 2
}
