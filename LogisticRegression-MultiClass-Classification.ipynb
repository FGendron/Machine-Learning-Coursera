{
 "cells": [
  {
   "cell_type": "markdown",
   "metadata": {},
   "source": [
    "# <font color=red> Machine Learning Course on Coursera </font>\n",
    "## Programming Exercise 3: <font color=blue>Multi-Class Classification</font>"
   ]
  },
  {
   "cell_type": "markdown",
   "metadata": {},
   "source": [
    "## <font color=green>Multi-Class  </font>\n",
    ">For this exercise, you will use logistic regression and neural networks to recognize handwritten digits (from 0 to 9). Automated handwritten digit recognition is widely used today - from recognizing zip codes (postal codes) on mail envelopes to recognizing amounts written on bank checks. This exercise will show you how the methods you have learned can be used for this classification task.\n",
    "In the first part of the exercise, you will extend your previous implementation of logistic regression and apply it to one-vs-all classification.\n"
   ]
  },
  {
   "cell_type": "code",
   "execution_count": 3,
   "metadata": {
    "collapsed": true
   },
   "outputs": [],
   "source": [
    "# Scientific and vector computation for python\n",
    "import numpy as np\n",
    "\n",
    "# Plotting library\n",
    "import matplotlib.pyplot as plt\n",
    "\n",
    "# Optimization module in scipy\n",
    "from scipy import optimize\n",
    "\n",
    "# will be used to load MATLAB mat datafile format\n",
    "from scipy.io import loadmat\n",
    "\n",
    "# import of my own functions\n",
    "import my_ML_functions\n",
    "#set up\n",
    "sigmoid = my_ML_functions.sigmoid\n",
    "\n",
    "# tells matplotlib to embed plots within the notebook\n",
    "%matplotlib inline"
   ]
  },
  {
   "cell_type": "markdown",
   "metadata": {},
   "source": [
    "## Let's first import the data and visualize it"
   ]
  },
  {
   "cell_type": "code",
   "execution_count": 4,
   "metadata": {
    "scrolled": true
   },
   "outputs": [],
   "source": [
    "# 20x20 Input Images of Digits\n",
    "input_layer_size  = 400\n",
    "\n",
    "# 10 labels, from 1 to 10 (note that we have mapped \"0\" to label 10)\n",
    "num_labels = 10\n",
    "\n",
    "#  training data stored in arrays X, y\n",
    "data = loadmat('MultiClass-ex3data1.mat')\n",
    "X, y = data['X'], data['y'].ravel()\n",
    "\n",
    "# set the zero digit to 0, rather than its mapped 10 in this dataset\n",
    "# This is an artifact due to the fact that this dataset was used in \n",
    "# MATLAB where there is no index 0\n",
    "y[y == 10] = 0\n",
    "\n",
    "m = y.size"
   ]
  },
  {
   "cell_type": "code",
   "execution_count": 337,
   "metadata": {},
   "outputs": [
    {
     "data": {
      "text/plain": [
       "<matplotlib.image.AxesImage at 0x7f9378d38828>"
      ]
     },
     "execution_count": 337,
     "metadata": {},
     "output_type": "execute_result"
    },
    {
     "data": {
      "image/png": "[encoded data removed]",
      "text/plain": [
       "<Figure size 432x288 with 1 Axes>"
      ]
     },
     "metadata": {},
     "output_type": "display_data"
    }
   ],
   "source": [
    "img = X[150]\n",
    "plt.imshow(img.reshape(20,20),cmap = plt.cm.Greys)"
   ]
  },
  {
   "cell_type": "markdown",
   "metadata": {},
   "source": [
    "## Vectorizing the cost function and the gradient (lrfunction)\n",
    "> J(θ)= (1/m) Sum[−y log(hθ(x))−(1−y)log(1−hθ(x))]"
   ]
  },
  {
   "cell_type": "code",
   "execution_count": 338,
   "metadata": {
    "collapsed": true
   },
   "outputs": [],
   "source": [
    "def lrfunction(theta,X,y,Lambda):\n",
    "    \"\"\"Define the logistic regression function that calculate the \n",
    "    cost J and the gradient \n",
    "    \"\"\"\n",
    "    # initialize the values\n",
    "    J = 0\n",
    "    grad = np.zeros(theta.shape)\n",
    "    m,n = X.shape\n",
    "    # convert labels to ints if their type is bool\n",
    "    #if y.dtype == bool:\n",
    "    #    y = y.astype(int)\n",
    "    # Costfunction\n",
    "    #h = sigmoid(X.dot(theta.T))\n",
    "    h = sigmoid(X.dot(theta))\n",
    "    temp = theta\n",
    "    temp[0] = 0\n",
    "    \n",
    "    part1 = y.T @ np.log(h)\n",
    "    part2 = (1 - y.T) @ np.log(1 - h)\n",
    "    reg = (Lambda/(2*m))*np.sum(np.square(temp))\n",
    "    J = (1 / m) * np.sum(-1*part1 - part2) + reg\n",
    "    #\n",
    "    # Gradient\n",
    "    #grad = (1 / m) * (h - y).dot(X) + (Lambda / m) * temp\n",
    "    grad = (1 / m) * X.T.dot((h - y)) + (Lambda / m) * temp\n",
    "    #\n",
    "    return J,grad"
   ]
  },
  {
   "cell_type": "markdown",
   "metadata": {},
   "source": [
    "Testing the lrfunction:"
   ]
  },
  {
   "cell_type": "code",
   "execution_count": 339,
   "metadata": {},
   "outputs": [
    {
     "name": "stdout",
     "output_type": "stream",
     "text": [
      "(2.534819396109744, array([[ 0.14656137],\n",
      "       [-0.54855841],\n",
      "       [ 0.72472227],\n",
      "       [ 1.39800296]]))\n"
     ]
    }
   ],
   "source": [
    "# Testing examples\n",
    "#theta_t = np.array([-2, -1, 1, 2])\n",
    "theta_t = np.c_[[-2,-1,1,2]]\n",
    "ones = np.ones((5,1)) \n",
    "x_t = np.arange(1, 16).reshape(5,3,order='F')/10\n",
    "X_t = np.concatenate([ones, x_t],axis=1)\n",
    "#y_t = np.array([1,0,1,0,1])\n",
    "y_t = np.c_[[1,0,1,0,1]]\n",
    "Lambda = 3\n",
    "N = len(X_t)\n",
    "# testing: Expected cost: 2.534819\n",
    "# testing: Expected gradients: 0.146561 -0.548558 0.724722 1.398003\n",
    "\n",
    "print(lrfunction(theta_t,X_t,y_t,Lambda))"
   ]
  },
  {
   "cell_type": "markdown",
   "metadata": {},
   "source": [
    "## One-vs-All Classification \n",
    ">In this part of the exercise, you will implement one-vs-all classification by training multiple regularized logistic regression classifiers, one for each of the K classes in our dataset. In the handwritten digits dataset, K = 10, but your code should work for any value of K."
   ]
  },
  {
   "cell_type": "code",
   "execution_count": 341,
   "metadata": {
    "collapsed": true
   },
   "outputs": [],
   "source": [
    "def oneVsAll(X,y,Lambda):\n",
    "    \"\"\"Train our logistic regression model\n",
    "    \"\"\"\n",
    "    #set up variables: m = nbre training example, n = number of X's input\n",
    "    m,n = X.shape\n",
    "    #\n",
    "    nbre_labels = 10\n",
    "    # weights\n",
    "    all_theta = np.ones((nbre_labels,n+1))\n",
    "    # Add ones to the X mat\n",
    "    ones = np.ones((m,1))\n",
    "    Xp = np.concatenate([ones,X],axis=1)\n",
    "    #\n",
    "    options = {'maxiter': 50}\n",
    "    for c in range(nbre_labels):\n",
    "        Init_theta = np.c_[np.ones(n+1)]\n",
    "        res = optimize.minimize(lrfunction,Init_theta,(Xp,(y_data==c),Lambda),jac=True,method='CG',options=options)\n",
    "        all_theta[c] = res.x\n",
    "    return all_theta"
   ]
  },
  {
   "cell_type": "markdown",
   "metadata": {},
   "source": [
    "## One-vs-All Classification Prediction"
   ]
  },
  {
   "cell_type": "code",
   "execution_count": 342,
   "metadata": {
    "collapsed": true
   },
   "outputs": [],
   "source": [
    "def predictOneVsAll(X,y,Lambda):\n",
    "    \"\"\"\n",
    "    \"\"\"\n",
    "    #set up variables: m = nbre training example, n = number of X's input\n",
    "    m,n = X.shape\n",
    "    # Add ones to the X mat\n",
    "    ones = np.ones((m,1))\n",
    "    Xp = np.concatenate([ones,X],axis=1)\n",
    "    \n",
    "    # Train the model\n",
    "    optweight = oneVsAll(X,y,Lambda)\n",
    "    \n",
    "    # Calculate the results\n",
    "    predict = np.argmax(sigmoid(Xp.dot(optweight.T)),axis =1)\n",
    "    \n",
    "    # Calculate the accuracy of the model\n",
    "    accuracy = np.mean(predict == y) * 100\n",
    "\n",
    "    return accuracy"
   ]
  },
  {
   "cell_type": "code",
   "execution_count": 230,
   "metadata": {},
   "outputs": [
    {
     "name": "stderr",
     "output_type": "stream",
     "text": [
      "/Users/fgendron/miniconda3/lib/python3.6/site-packages/ipykernel_launcher.py:19: RuntimeWarning: divide by zero encountered in log\n",
      "/Users/fgendron/miniconda3/lib/python3.6/site-packages/ipykernel_launcher.py:19: RuntimeWarning: invalid value encountered in matmul\n",
      "/Users/fgendron/miniconda3/lib/python3.6/site-packages/ipykernel_launcher.py:19: RuntimeWarning: divide by zero encountered in log\n",
      "/Users/fgendron/miniconda3/lib/python3.6/site-packages/ipykernel_launcher.py:19: RuntimeWarning: invalid value encountered in matmul\n",
      "/Users/fgendron/miniconda3/lib/python3.6/site-packages/ipykernel_launcher.py:19: RuntimeWarning: divide by zero encountered in log\n",
      "/Users/fgendron/miniconda3/lib/python3.6/site-packages/ipykernel_launcher.py:19: RuntimeWarning: invalid value encountered in matmul\n",
      "/Users/fgendron/miniconda3/lib/python3.6/site-packages/ipykernel_launcher.py:19: RuntimeWarning: divide by zero encountered in log\n",
      "/Users/fgendron/miniconda3/lib/python3.6/site-packages/ipykernel_launcher.py:19: RuntimeWarning: invalid value encountered in matmul\n",
      "/Users/fgendron/miniconda3/lib/python3.6/site-packages/ipykernel_launcher.py:19: RuntimeWarning: divide by zero encountered in log\n",
      "/Users/fgendron/miniconda3/lib/python3.6/site-packages/ipykernel_launcher.py:19: RuntimeWarning: invalid value encountered in matmul\n",
      "/Users/fgendron/miniconda3/lib/python3.6/site-packages/ipykernel_launcher.py:19: RuntimeWarning: divide by zero encountered in log\n",
      "/Users/fgendron/miniconda3/lib/python3.6/site-packages/ipykernel_launcher.py:19: RuntimeWarning: invalid value encountered in matmul\n",
      "/Users/fgendron/miniconda3/lib/python3.6/site-packages/ipykernel_launcher.py:19: RuntimeWarning: divide by zero encountered in log\n",
      "/Users/fgendron/miniconda3/lib/python3.6/site-packages/ipykernel_launcher.py:19: RuntimeWarning: invalid value encountered in matmul\n",
      "/Users/fgendron/miniconda3/lib/python3.6/site-packages/ipykernel_launcher.py:19: RuntimeWarning: divide by zero encountered in log\n",
      "/Users/fgendron/miniconda3/lib/python3.6/site-packages/ipykernel_launcher.py:19: RuntimeWarning: invalid value encountered in matmul\n",
      "/Users/fgendron/miniconda3/lib/python3.6/site-packages/ipykernel_launcher.py:19: RuntimeWarning: divide by zero encountered in log\n",
      "/Users/fgendron/miniconda3/lib/python3.6/site-packages/ipykernel_launcher.py:19: RuntimeWarning: invalid value encountered in matmul\n",
      "/Users/fgendron/miniconda3/lib/python3.6/site-packages/ipykernel_launcher.py:19: RuntimeWarning: divide by zero encountered in log\n",
      "/Users/fgendron/miniconda3/lib/python3.6/site-packages/ipykernel_launcher.py:19: RuntimeWarning: invalid value encountered in matmul\n",
      "/Users/fgendron/miniconda3/lib/python3.6/site-packages/ipykernel_launcher.py:19: RuntimeWarning: divide by zero encountered in log\n",
      "/Users/fgendron/miniconda3/lib/python3.6/site-packages/ipykernel_launcher.py:19: RuntimeWarning: invalid value encountered in matmul\n",
      "/Users/fgendron/miniconda3/lib/python3.6/site-packages/ipykernel_launcher.py:19: RuntimeWarning: divide by zero encountered in log\n",
      "/Users/fgendron/miniconda3/lib/python3.6/site-packages/ipykernel_launcher.py:19: RuntimeWarning: invalid value encountered in matmul\n",
      "/Users/fgendron/miniconda3/lib/python3.6/site-packages/ipykernel_launcher.py:19: RuntimeWarning: divide by zero encountered in log\n",
      "/Users/fgendron/miniconda3/lib/python3.6/site-packages/ipykernel_launcher.py:19: RuntimeWarning: invalid value encountered in matmul\n",
      "/Users/fgendron/miniconda3/lib/python3.6/site-packages/ipykernel_launcher.py:19: RuntimeWarning: divide by zero encountered in log\n",
      "/Users/fgendron/miniconda3/lib/python3.6/site-packages/ipykernel_launcher.py:19: RuntimeWarning: invalid value encountered in matmul\n",
      "/Users/fgendron/miniconda3/lib/python3.6/site-packages/ipykernel_launcher.py:19: RuntimeWarning: divide by zero encountered in log\n",
      "/Users/fgendron/miniconda3/lib/python3.6/site-packages/ipykernel_launcher.py:19: RuntimeWarning: invalid value encountered in matmul\n",
      "/Users/fgendron/miniconda3/lib/python3.6/site-packages/ipykernel_launcher.py:19: RuntimeWarning: divide by zero encountered in log\n",
      "/Users/fgendron/miniconda3/lib/python3.6/site-packages/ipykernel_launcher.py:19: RuntimeWarning: invalid value encountered in matmul\n",
      "/Users/fgendron/miniconda3/lib/python3.6/site-packages/ipykernel_launcher.py:19: RuntimeWarning: divide by zero encountered in log\n",
      "/Users/fgendron/miniconda3/lib/python3.6/site-packages/ipykernel_launcher.py:19: RuntimeWarning: invalid value encountered in matmul\n",
      "/Users/fgendron/miniconda3/lib/python3.6/site-packages/ipykernel_launcher.py:19: RuntimeWarning: divide by zero encountered in log\n",
      "/Users/fgendron/miniconda3/lib/python3.6/site-packages/ipykernel_launcher.py:19: RuntimeWarning: invalid value encountered in matmul\n",
      "/Users/fgendron/miniconda3/lib/python3.6/site-packages/ipykernel_launcher.py:19: RuntimeWarning: divide by zero encountered in log\n",
      "/Users/fgendron/miniconda3/lib/python3.6/site-packages/ipykernel_launcher.py:19: RuntimeWarning: invalid value encountered in matmul\n",
      "/Users/fgendron/miniconda3/lib/python3.6/site-packages/ipykernel_launcher.py:19: RuntimeWarning: divide by zero encountered in log\n",
      "/Users/fgendron/miniconda3/lib/python3.6/site-packages/ipykernel_launcher.py:19: RuntimeWarning: invalid value encountered in matmul\n"
     ]
    },
    {
     "data": {
      "text/plain": [
       "94.72"
      ]
     },
     "execution_count": 230,
     "metadata": {},
     "output_type": "execute_result"
    }
   ],
   "source": [
    "Lambda = 0.1\n",
    "predictOneVsAll(X,y,Lambda)"
   ]
  },
  {
   "cell_type": "markdown",
   "metadata": {},
   "source": [
    "## Neural Network\n",
    ">In the previous part of this exercise, you implemented multi-class logistic regression to recognize handwritten digits. However, logistic regression cannot form more complex hypotheses as it is only a linear classifier (You could add more features - such as polynomial features - to logistic regression, but that can be very expensive to train).\n",
    "\n",
    ">In this part of the exercise, you will implement a neural network to recognize handwritten digits using the same training set as before. The neural network will be able to represent complex models that form non-linear hypotheses. For this week, you will be using parameters from a neural network that we have already trained. Your goal is to implement the feedforward propagation algorithm to use our weights for prediction. "
   ]
  },
  {
   "cell_type": "markdown",
   "metadata": {},
   "source": [
    "Model Representation: \n",
    "It has 3 layers – an input layer, a hidden layer and an output layer. Recall that our inputs are pixel values of digit images. Since the images are of size 20×20, this gives us 400 input layer units (excluding the extra bias unit which always outputs +1). As before, the training data will be loaded into the variables X and y."
   ]
  },
  {
   "cell_type": "code",
   "execution_count": 343,
   "metadata": {
    "collapsed": true
   },
   "outputs": [],
   "source": [
    "# 20x20 Input Images of Digits\n",
    "input_layer_size  = 400\n",
    "\n",
    "# 10 labels, from 1 to 10 (note that we have mapped \"0\" to label 10)\n",
    "num_labels = 10\n",
    "\n",
    "#  training data stored in arrays X, y\n",
    "data = loadmat('MultiClass-ex3data1.mat')\n",
    "X, y = data['X'], data['y'].ravel()\n",
    "\n",
    "# set the zero digit to 0, rather than its mapped 10 in this dataset\n",
    "# This is an artifact due to the fact that this dataset was used in \n",
    "# MATLAB where there is no index 0\n",
    "y[y == 10] = 0\n",
    "\n",
    "m = y.size\n",
    "\n",
    "# Loading the already optmized weights Theta_1 and Theta_2\n",
    "weights =loadmat('MultiClass-ex3weights.mat')\n",
    "Theta1,Theta2 = weights['Theta1'],weights['Theta2']\n",
    "# swap first and last columns of Theta2, due to legacy from MATLAB indexing, \n",
    "# since the weight file ex3weights.mat was saved based on MATLAB indexing\n",
    "Theta2 = np.roll(Theta2, 1, axis=0)"
   ]
  },
  {
   "cell_type": "markdown",
   "metadata": {},
   "source": [
    "### Feedforward Propagation and Prediction"
   ]
  },
  {
   "cell_type": "code",
   "execution_count": 344,
   "metadata": {
    "collapsed": true
   },
   "outputs": [],
   "source": [
    "# Setup variables\n",
    "m,n = X.shape\n",
    "# add ones to the Xp matrix\n",
    "ones = np.ones((m,1))\n",
    "Xp = np.concatenate([ones,X],axis =1)"
   ]
  },
  {
   "cell_type": "code",
   "execution_count": 345,
   "metadata": {},
   "outputs": [
    {
     "data": {
      "text/plain": [
       "97.52"
      ]
     },
     "execution_count": 345,
     "metadata": {},
     "output_type": "execute_result"
    }
   ],
   "source": [
    "#feedforward propagation\n",
    "z2 = Xp.dot(Theta1.T)\n",
    "a2 = sigmoid(z2)\n",
    "#a2 = np.concatenate([ones,a2],axis=1)\n",
    "a2 = np.concatenate([np.ones((a2.shape[0], 1)), a2], axis=1)\n",
    "#a2.shape,Theta2.shape\n",
    "z3 = a2.dot(Theta2.T)\n",
    "a3 = sigmoid(z3)\n",
    "\n",
    "#Prediction and accuracy\n",
    "prediction = np.argmax(a3,axis=1)\n",
    "accuracy = np.mean(prediction == y) * 100\n",
    "\n",
    "# We should obtained an accuracy of ca. 97.5%\n",
    "accuracy"
   ]
  },
  {
   "cell_type": "markdown",
   "metadata": {},
   "source": [
    "## Visualize your Neural Net Prediction"
   ]
  },
  {
   "cell_type": "code",
   "execution_count": 348,
   "metadata": {},
   "outputs": [
    {
     "name": "stdout",
     "output_type": "stream",
     "text": [
      "My Neural Network prediction is a 3\n"
     ]
    },
    {
     "data": {
      "image/png": "[encoded data removed]",
      "text/plain": [
       "<Figure size 432x288 with 1 Axes>"
      ]
     },
     "metadata": {},
     "output_type": "display_data"
    }
   ],
   "source": [
    "# select a random image among the data set\n",
    "item = np.random.randint(5000)\n",
    "#\n",
    "# What is the prediction of the Neural Net\n",
    "print('My Neural Network prediction is a',prediction[item])\n",
    "# plot the random image\n",
    "img = X[item]\n",
    "plt.imshow(img.reshape(20,20),cmap = plt.cm.Greys);"
   ]
  },
  {
   "cell_type": "code",
   "execution_count": null,
   "metadata": {
    "collapsed": true
   },
   "outputs": [],
   "source": []
  }
 ],
 "metadata": {
  "kernelspec": {
   "display_name": "Python 3",
   "language": "python",
   "name": "python3"
  },
  "language_info": {
   "codemirror_mode": {
    "name": "ipython",
    "version": 3
   },
   "file_extension": ".py",
   "mimetype": "text/x-python",
   "name": "python",
   "nbconvert_exporter": "python",
   "pygments_lexer": "ipython3",
   "version": "3.6.8"
  }
 },
 "nbformat": 4,
 "nbformat_minor": 2
}
