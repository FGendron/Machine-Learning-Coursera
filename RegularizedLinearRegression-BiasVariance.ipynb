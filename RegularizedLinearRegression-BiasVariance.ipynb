{
 "cells": [
  {
   "cell_type": "markdown",
   "metadata": {},
   "source": [
    "# <font color=red> Machine Learning Course on Coursera </font>\n",
    "## Programming Exercise 5: <font color=blue>Regularized Linear Regression and Bias vs. Variance</font>"
   ]
  },
  {
   "cell_type": "markdown",
   "metadata": {},
   "source": [
    "## <font color=green>Regularized Linear Regression  </font>\n",
    ">In the first half of the exercise, you will implement regularized linear regression to predict the amount of water flowing out of a dam using the change of water level in a reservoir. "
   ]
  },
  {
   "cell_type": "code",
   "execution_count": 1,
   "metadata": {},
   "outputs": [],
   "source": [
    "# Scientific and vector computation for python\n",
    "import numpy as np\n",
    "\n",
    "# Plotting library\n",
    "import matplotlib.pyplot as plt\n",
    "import seaborn as sns\n",
    "\n",
    "# Optimization module in scipy\n",
    "from scipy import optimize\n",
    "\n",
    "# will be used to load MATLAB mat datafile format\n",
    "from scipy.io import loadmat\n",
    "\n",
    "# will be used to transform the y\n",
    "import pandas as pd\n",
    "\n",
    "# import of my own functions\n",
    "import my_ML_functions\n",
    "#set up\n",
    "sigmoid = my_ML_functions.sigmoid\n",
    "\n",
    "# tells matplotlib to embed plots within the notebook\n",
    "%matplotlib inline"
   ]
  },
  {
   "cell_type": "markdown",
   "metadata": {},
   "source": [
    "## Let's first import the data and visualize it\n",
    "We will begin by visualizing the dataset containing historical records on the change in the water level, x, and the amount of water flowing out of the dam, y.\n",
    "\n",
    "This dataset is divided into three parts:\n",
    "\n",
    "[•] A training set that your model will learn on: X, y\n",
    "\n",
    "[•] A cross validation set for determining the regularization parameter: Xval, yval\n",
    "\n",
    "[•] A test set for evaluating performance. These are “unseen” examples which your model did not see during training: Xtest, ytest\n"
   ]
  },
  {
   "cell_type": "code",
   "execution_count": 2,
   "metadata": {},
   "outputs": [],
   "source": [
    "#loading and storing data sets in arrays\n",
    "data = loadmat('Data/RegularizedLinearReg-ex5data1.mat')\n",
    "X_train = data['X']\n",
    "y_train = data['y']\n",
    "X_val = data['Xval']\n",
    "y_val = data['yval']\n",
    "X_test = data['Xtest']\n",
    "y_test = data['ytest']"
   ]
  },
  {
   "cell_type": "code",
   "execution_count": 3,
   "metadata": {},
   "outputs": [
    {
     "data": {
      "image/png": "[encoded data removed]",
      "text/plain": [
       "<Figure size 432x288 with 1 Axes>"
      ]
     },
     "metadata": {},
     "output_type": "display_data"
    }
   ],
   "source": [
    "#Let's plot the data\n",
    "plt.figure()\n",
    "plt.scatter(X_train,y_train)\n",
    "plt.scatter(X_val,y_val)\n",
    "plt.scatter(X_test,y_test)\n",
    "plt.xlabel('Change in water level (x)');\n",
    "plt.ylabel('Water flowing out of the dam (y)');\n",
    "plt.legend(['Training set','Validation set','Test set']);"
   ]
  },
  {
   "cell_type": "markdown",
   "metadata": {},
   "source": [
    "## Regularized Linear Regression Cost Function\n",
    "> Your task is to write a function to calculate the regularized linear regression cost function. If possible, try to vectorize your code and avoid writing loops. When you are finished, run your cost function using theta initialized at [1; 1]. You should expect to see an output of 303.993."
   ]
  },
  {
   "cell_type": "code",
   "execution_count": 4,
   "metadata": {},
   "outputs": [
    {
     "data": {
      "text/plain": [
       "303.9515255535976"
      ]
     },
     "execution_count": 4,
     "metadata": {},
     "output_type": "execute_result"
    }
   ],
   "source": [
    "# Set up variables\n",
    "m,n = X_train.shape\n",
    "lambda_ = 1\n",
    "# Add ones to the X matrix\n",
    "ones = np.ones((m,1))\n",
    "Xp = np.concatenate([ones,X_train],axis=1)\n",
    "\n",
    "Theta = np.array([1,1]).reshape(1,-1)\n",
    "\n",
    "#print(Xp.shape,Theta.shape)\n",
    "h = Xp.dot(Theta.T)\n",
    "\n",
    "#print(h.shape,y_train.shape)\n",
    "error = h - y_train\n",
    "\n",
    "reg = (lambda_ / (2 * m)) * np.sum(np.square(Theta[1:]))\n",
    "J = (1 / (2 * m)) * np.sum(np.square(error)) + reg\n",
    "J"
   ]
  },
  {
   "cell_type": "markdown",
   "metadata": {},
   "source": [
    "## Regularized Linear Regression Gradient\n",
    "> In your previous function, add code to calculate the gradient, returning it in the variable grad. When you are finished, run your gradient function using theta initialized at [1; 1]. You should expect to see a gradient of [-15.30; 598.250]."
   ]
  },
  {
   "cell_type": "code",
   "execution_count": 6,
   "metadata": {},
   "outputs": [
    {
     "name": "stdout",
     "output_type": "stream",
     "text": [
      "[[-15.30301567 598.16741084]]\n"
     ]
    }
   ],
   "source": [
    "# Set up variables\n",
    "m,n = X_train.shape\n",
    "lambda_ = 1\n",
    "# Add ones to the X matrix\n",
    "ones = np.ones((m,1))\n",
    "Xp = np.concatenate([ones,X_train],axis=1)\n",
    "\n",
    "Theta = np.array([1,1]).reshape(1,-1)\n",
    "#Theta = np.c_[1,1]\n",
    "\n",
    "#print(Xp.shape,Theta.shape)\n",
    "h = Xp.dot(Theta.T)\n",
    "\n",
    "#print(h.shape,y_train.shape)\n",
    "error = h - y_train\n",
    "\n",
    "reg = (lambda_ / (2 * m)) * np.sum(np.square(Theta[1:]))\n",
    "J = (1 / (2 * m)) * np.sum(np.square(error)) + reg\n",
    "\n",
    "#print(error.shape,Xp.shape)\n",
    "grad = (1 / m) * (error.T.dot(Xp)) \n",
    "grad[1:] = grad[1:] + (lambda_ / m) * Theta[1:]\n",
    "print(grad)"
   ]
  },
  {
   "cell_type": "code",
   "execution_count": 7,
   "metadata": {
    "collapsed": true
   },
   "outputs": [],
   "source": [
    "# Rewrite as a function\n",
    "def linearRegCostFunction(theta,X,y,lambda_):\n",
    "    \"\"\"Calculate the cost function and the gradient for the case of regularized linear regression\n",
    "    \"\"\"\n",
    "    # Set up variables\n",
    "    m,n = X.shape\n",
    "    grad = np.zeros(theta.shape)\n",
    "    # Add ones to the X matrix\n",
    "    ones = np.ones((m,1))\n",
    "    Xp = np.concatenate([ones,X],axis=1)\n",
    "\n",
    "    #costfunction\n",
    "    h = Xp.dot(theta.T)\n",
    "    error = h - y\n",
    "    reg = (lambda_ / (2 * m)) * np.sum(np.square(theta[1:]))\n",
    "    J = (1 / (2 * m)) * np.sum(np.square(error)) + reg\n",
    "    \n",
    "    #gradient\n",
    "    grad = (1 / m) * (error.T.dot(Xp)) \n",
    "    grad[1:] = grad[1:] + (lambda_ / m) * theta[1:]\n",
    "    \n",
    "    return J,grad"
   ]
  },
  {
   "cell_type": "code",
   "execution_count": 8,
   "metadata": {},
   "outputs": [
    {
     "name": "stdout",
     "output_type": "stream",
     "text": [
      "303.9515255535976 [[-15.30301567 598.16741084]]\n"
     ]
    }
   ],
   "source": [
    "# Testing the function\n",
    "#You should expet to see J = 303.993\n",
    "#You should expect to see a gradient of [-15.30; 598.250]\n",
    "lambda_ = 1\n",
    "Theta = np.array([1,1]).reshape(1,-1)\n",
    "J,grad = linearRegCostFunction(Theta,X_train,y_train,lambda_)\n",
    "print(J,grad)"
   ]
  },
  {
   "cell_type": "markdown",
   "metadata": {},
   "source": [
    "## Fitting Linear Regression\n",
    "> First Compute the optimal values of theta\n",
    "\n",
    ">In this part, we set regularization parameter λ to zero. Because our current implementation of linear regression is trying to fit a 2-dimensional θ, regularization will not be incredibly helpful for a θ of such low dimension. In the later parts of the exercise, you will be using polynomial regression with\n",
    "regularization."
   ]
  },
  {
   "cell_type": "code",
   "execution_count": 9,
   "metadata": {},
   "outputs": [
    {
     "data": {
      "text/plain": [
       "('Optimization terminated successfully.', array([13.08771418,  0.367742  ]))"
      ]
     },
     "execution_count": 9,
     "metadata": {},
     "output_type": "execute_result"
    }
   ],
   "source": [
    "# Optimization\n",
    "#remember: y as vector with ravel and jac=true\n",
    "lambda_ = 1\n",
    "Theta = np.array([1,1]).reshape(1,-1)\n",
    "options = {'maxiter': 100}\n",
    "res=optimize.minimize(linearRegCostFunction,Theta,(X_train,y_train.ravel(),lambda_),\n",
    "                      jac=True, method='bfgs',options=options)\n",
    "res.message,res.x"
   ]
  },
  {
   "cell_type": "code",
   "execution_count": 10,
   "metadata": {},
   "outputs": [],
   "source": [
    "# Deploy your Regularized Linear Regression model\n",
    "# Set up variables\n",
    "m,n = X_train.shape\n",
    "# Add ones to the X matrix\n",
    "ones = np.ones((m,1))\n",
    "Xp = np.concatenate([ones,X_train],axis=1)\n",
    "modelScipy = Xp.dot(res.x)"
   ]
  },
  {
   "cell_type": "code",
   "execution_count": 11,
   "metadata": {},
   "outputs": [
    {
     "data": {
      "image/png": "[encoded data removed]",
      "text/plain": [
       "<Figure size 432x288 with 1 Axes>"
      ]
     },
     "metadata": {},
     "output_type": "display_data"
    }
   ],
   "source": [
    "#Let's plot the data\n",
    "plt.figure()\n",
    "plt.scatter(X_train,y_train,c='red')\n",
    "plt.plot(X_train,modelScipy)\n",
    "plt.xlabel('Change in water level (x)');\n",
    "plt.ylabel('Water flowing out of the dam (y)');"
   ]
  },
  {
   "cell_type": "markdown",
   "metadata": {},
   "source": [
    "The best fit line tells us that the model is not a good fit to the data because the data has a non-linear pattern. While visualizing the best fit as shown is one possible way to debug your learning algorithm, it is not always easy to visualize the data and model. In the next section, you will implement a function to generate learning curves that can help you debug your learning algorithm even if it is not easy to visualize the data."
   ]
  },
  {
   "cell_type": "code",
   "execution_count": 12,
   "metadata": {
    "collapsed": true
   },
   "outputs": [],
   "source": [
    "#Let's do it with Scikit-Learn\n",
    "from sklearn.linear_model import LinearRegression\n",
    "from sklearn.metrics import accuracy_score "
   ]
  },
  {
   "cell_type": "code",
   "execution_count": 13,
   "metadata": {},
   "outputs": [
    {
     "data": {
      "image/png": "[encoded data removed]",
      "text/plain": [
       "<Figure size 432x288 with 1 Axes>"
      ]
     },
     "metadata": {},
     "output_type": "display_data"
    }
   ],
   "source": [
    "# Train the model\n",
    "model = LinearRegression()\n",
    "model.fit(X_train,y_train.ravel())\n",
    "optTheta = [model.intercept_,model.coef_[0]]\n",
    "\n",
    "#deploy the model\n",
    "# Set up variables\n",
    "m,n = X_train.shape\n",
    "# Add ones to the X matrix\n",
    "ones = np.ones((m,1))\n",
    "Xp = np.concatenate([ones,X_train],axis=1)\n",
    "modelsk = Xp.dot(optTheta)\n",
    "\n",
    "#plot the results\n",
    "plt.figure()\n",
    "plt.scatter(X_train,y_train,c='red')\n",
    "plt.plot(X_train,modelsk,c='green')\n",
    "plt.xlabel('Change in water level (x)');\n",
    "plt.ylabel('Water flowing out of the dam (y)');"
   ]
  },
  {
   "cell_type": "markdown",
   "metadata": {},
   "source": [
    "## <font color=green>Bias Vs. Variance  </font>\n",
    ">An important concept in machine learning is the bias-variance tradeoff. Models with high bias are not complex enough for the data and tend to underfit, while models with high variance overfit to the training data."
   ]
  },
  {
   "cell_type": "markdown",
   "metadata": {},
   "source": [
    "## Learning Curves\n",
    ">You will now implement code to generate the learning curves that will be useful in debugging learning algorithms. Recall that a learning curve plots training and cross validation error as a function of training set size.\n",
    "\n",
    ">To plot the learning curve, we need a training and cross validation set error for different training set sizes. To obtain different training set sizes, you should use different subsets of the original training set X. Specifically, for a training set size of i, you should use the first i examples (i.e., X(1:i,:) and y(1:i)).\n",
    "\n",
    ">You can use the trainLinearReg function to find the θ parameters. Note that the lambda is passed as a parameter to the learningCurve function. After learning the θ parameters, you should compute the error on the training and cross validation sets.\n",
    "\n",
    ">In particular, note that the training error does not include the regularization term. One way to compute the training error is to use your existing cost function and set λ to 0 only when using it to compute the training error and cross validation error. When you are computing the training set error, make sure you compute it on the training subset (i.e., X(1:n,:) and y(1:n)) (instead of the entire training set). However, for the cross validation error, you should compute it over the entire cross validation set. You should store the computed errors in the vectors error train and error val."
   ]
  },
  {
   "cell_type": "code",
   "execution_count": 14,
   "metadata": {
    "collapsed": true
   },
   "outputs": [],
   "source": [
    "def trainLinearReg(X,y,lambda_):\n",
    "    \"\"\"Train the neural network and return the optimized weights\n",
    "    \"\"\"\n",
    "    m,n = X.shape\n",
    "    InitTheta = np.array(np.ones(n+1)).reshape(1,-1)\n",
    "    options = {'maxiter': 100}\n",
    "    res=optimize.minimize(linearRegCostFunction,InitTheta,(X,y.ravel(),lambda_),jac=True, method='bfgs',options=options)\n",
    "    \n",
    "    return res.x"
   ]
  },
  {
   "cell_type": "code",
   "execution_count": 15,
   "metadata": {},
   "outputs": [],
   "source": [
    "def learningCurve(X,y,Xval,yval,lambda_):\n",
    "    \"\"\"Calculate and plot the training and cross validation error \n",
    "    as a function of training examples and for a given lambda\n",
    "    \"\"\"\n",
    "    # Set up variables\n",
    "    m,n = X.shape\n",
    "    item = []\n",
    "    J_train = np.zeros(m)\n",
    "    J_cv = np.zeros(m)\n",
    "    for i in range(1,m+1):\n",
    "        #trainLinearReg\n",
    "        theta = trainLinearReg(X[:i,:],y[:i,:],lambda_)\n",
    "        item.append(i)\n",
    "        #print(theta)\n",
    "        #Training Costfunction\n",
    "        J_train[i - 1],_ = linearRegCostFunction(theta,X[:i,:],y[:i,:].ravel(),lambda_=0.0)\n",
    "    \n",
    "        #print(theta,Jtrain)\n",
    "        J_cv[i - 1],_ = linearRegCostFunction(theta,Xval,yval.ravel(),lambda_=0.0)\n",
    "\n",
    "    return item,J_train,J_cv"
   ]
  },
  {
   "cell_type": "code",
   "execution_count": 16,
   "metadata": {},
   "outputs": [
    {
     "name": "stdout",
     "output_type": "stream",
     "text": [
      "         J_train        J_cv\n",
      "1   7.326980e-26  138.846777\n",
      "2   1.218635e-03  113.481892\n",
      "3   3.288607e+00   44.631333\n",
      "4   2.843756e+00   48.071162\n",
      "5   1.315438e+01   35.799145\n",
      "6   1.944425e+01   33.757219\n",
      "7   2.009873e+01   31.916901\n",
      "8   1.817301e+01   30.824305\n",
      "9   2.260953e+01   31.104587\n",
      "10  2.326154e+01   28.925958\n",
      "11  2.431732e+01   29.547671\n",
      "12  2.237396e+01   29.427464\n"
     ]
    },
    {
     "data": {
      "image/png": "[encoded data removed]",
      "text/plain": [
       "<Figure size 432x288 with 1 Axes>"
      ]
     },
     "metadata": {},
     "output_type": "display_data"
    }
   ],
   "source": [
    "item,J_train,J_cv = learningCurve(X_train,y_train,X_val,y_val,10)\n",
    "results = pd.DataFrame(J_train,columns=['J_train'],index=[1,2,3,4,5,6,7,8,9,10,11,12])\n",
    "results['J_cv'] = J_cv\n",
    "print(results.head(12))\n",
    "plt.figure()\n",
    "plt.plot(item,J_train)\n",
    "plt.plot(item,J_cv)\n",
    "plt.legend(['Jtrain','Jcv'])\n",
    "plt.xlabel('Number of training examples');\n",
    "plt.ylabel('Error');"
   ]
  },
  {
   "cell_type": "markdown",
   "metadata": {},
   "source": [
    "## <font color=green>Polynomial Regression  </font>\n",
    ">The problem with our linear model was that it was too simple for the data and resulted in underfitting (high bias). In this part of the exercise, you will address this problem by adding more features.\n",
    "\n",
    ">Your task in this part is to complete the code in polyFeatures.m so that the function maps the original training set X of size m × 1 into its higher powers. Specifically, when a training set X of size m × 1 is passed into the function, the function should return a m×p matrix X poly, where column 1 holds the original values of X, column 2 holds the values of X.^2, column 3 holds the values of X.^3, and so on. Note that you don’t have to account for the zero-eth power in this function."
   ]
  },
  {
   "cell_type": "code",
   "execution_count": 17,
   "metadata": {},
   "outputs": [],
   "source": [
    "def polyFeatures(X,p):\n",
    "    \"\"\"maps the training set X into its higher powers\n",
    "    \"\"\"\n",
    "    m,n = X.shape\n",
    "    mat = np.zeros((m,p))\n",
    "    \n",
    "    for i in range(m):\n",
    "        for j in range(p):\n",
    "            mat[i,j] = X[i,0]**(j+1)\n",
    "    return mat"
   ]
  },
  {
   "cell_type": "markdown",
   "metadata": {},
   "source": [
    "## Learning Polynomial Regression"
   ]
  },
  {
   "cell_type": "code",
   "execution_count": 18,
   "metadata": {
    "collapsed": true
   },
   "outputs": [],
   "source": [
    "def featureNormalize(X):\n",
    "    \"\"\" Normalization function\n",
    "    \"\"\"\n",
    "    mu = np.mean(X, axis=0)\n",
    "    X_norm = X - mu\n",
    "\n",
    "    sigma = np.std(X_norm, axis=0, ddof=1)\n",
    "    X_norm /= sigma\n",
    "    return X_norm, mu, sigma"
   ]
  },
  {
   "cell_type": "markdown",
   "metadata": {},
   "source": [
    "For this part of the exercise, you will be using a polynomial of degree 8. It turns out that if we run the training directly on the projected data, will not work well as the features would be badly scaled (e.g., an example with x = 40 will now have a feature x8 = 408 = 6.5 × 1012). Therefore, you will need to use feature normalization.\n",
    "Before learning the parameters θ for the polynomial regression, first call featureNormalize and normalize the features of the training set, storing the mu, sigma parameters separately. "
   ]
  },
  {
   "cell_type": "code",
   "execution_count": 19,
   "metadata": {},
   "outputs": [],
   "source": [
    "power = 8\n",
    "\n",
    "#Training set\n",
    "X_poly = polyFeatures(X_train,power)\n",
    "X_poly, mu, sigma = featureNormalize(X_poly)\n",
    "\n",
    "#CrossValidation set\n",
    "X_poly_val = polyFeatures(X_val,power)\n",
    "X_poly_val, mu_val, sigma_val = featureNormalize(X_poly_val)"
   ]
  },
  {
   "cell_type": "markdown",
   "metadata": {},
   "source": [
    "After learning the parameters θ, you should plots the generated model and learning curves for polynomial regression with λ = 0."
   ]
  },
  {
   "cell_type": "code",
   "execution_count": 20,
   "metadata": {
    "scrolled": true
   },
   "outputs": [
    {
     "data": {
      "image/png": "[encoded data removed]",
      "text/plain": [
       "<Figure size 432x288 with 1 Axes>"
      ]
     },
     "metadata": {},
     "output_type": "display_data"
    }
   ],
   "source": [
    "#Train the model\n",
    "lambda_ = 0\n",
    "optweights = trainLinearReg(X_poly,y_train,lambda_)\n",
    "\n",
    "\n",
    "x = np.arange(np.min(X_train) - 5, np.max(X_train) + 5, 0.05).reshape(-1, 1)\n",
    "# Map the X values\n",
    "X_plot = polyFeatures(x, power)\n",
    "X_plot -= mu\n",
    "X_plot /= sigma\n",
    "\n",
    "# Add ones\n",
    "X_plot = np.concatenate([np.ones((x.shape[0], 1)), X_plot], axis=1)\n",
    "\n",
    "# Plot the results\n",
    "plt.figure()\n",
    "plt.scatter(X_train,y_train,c='red')\n",
    "plt.plot(x, np.dot(X_plot, optweights), '--', lw=2);"
   ]
  },
  {
   "cell_type": "code",
   "execution_count": 21,
   "metadata": {},
   "outputs": [
    {
     "name": "stdout",
     "output_type": "stream",
     "text": [
      "         J_train        J_cv\n",
      "1   9.860761e-32  106.425573\n",
      "2   2.183078e-12  106.347105\n",
      "3   5.672882e-11   46.117348\n",
      "4   1.432970e-12   44.313835\n",
      "5   1.453703e-13    7.305095\n",
      "6   7.314595e-12   12.333102\n",
      "7   1.214861e-10   21.422780\n",
      "8   1.343950e-07   14.318122\n",
      "9   5.560776e-08   15.025620\n",
      "10  1.081801e-02   51.303296\n",
      "11  3.121901e-02   28.889695\n",
      "12  2.889295e-02   30.506607\n"
     ]
    },
    {
     "data": {
      "image/png": "[encoded data removed]",
      "text/plain": [
       "<Figure size 432x288 with 1 Axes>"
      ]
     },
     "metadata": {},
     "output_type": "display_data"
    }
   ],
   "source": [
    "item,J_train,J_cv = learningCurve(X_poly,y_train,X_poly_val,y_val,lambda_)\n",
    "results = pd.DataFrame(J_train,columns=['J_train'],index=[1,2,3,4,5,6,7,8,9,10,11,12])\n",
    "results['J_cv'] = J_cv\n",
    "print(results.head(12))\n",
    "plt.figure()\n",
    "plt.plot(item,J_train)\n",
    "plt.plot(item,J_cv)\n",
    "plt.legend(['Jtrain','Jcv'])\n",
    "plt.xlabel('Number of training examples');\n",
    "plt.ylabel('Error');"
   ]
  },
  {
   "cell_type": "markdown",
   "metadata": {},
   "source": [
    "We see that the polynomial fit is able to follow the datapoints very well - thus, obtaining a low training error. However, the polynomial fit is very complex and even drops off at the extremes. This is an indicator that the polynomial regression model is overfitting the training data and will not generalize well.\n",
    "\n",
    "To better understand the problems with the unregularized (λ = 0) model, you can see that the learning curve shows the same effect where the low training error is low, but the cross validation error is high. There is a gap between the training and cross validation errors, indicating a high variance problem (Overfitting)."
   ]
  },
  {
   "cell_type": "markdown",
   "metadata": {},
   "source": [
    "## Selecting λ using a cross validation set\n",
    ">In this section, you will implement an automated method to select the λ parameter. Concretely, you will use a cross validation set to evaluate how good each λ value is. After selecting the best λ value using the cross validation set, we can then evaluate the model on the test set to estimate how well the model will perform on actual unseen data.\n",
    "\n",
    ">Specifically, you should should use the trainLinearReg function to train the model using different values of λ and compute the training error and cross validation error.\n",
    "You should try λ in the following range: {0, 0.001, 0.003, 0.01, 0.03, 0.1, 0.3, 1, 3, 10}."
   ]
  },
  {
   "cell_type": "code",
   "execution_count": 22,
   "metadata": {
    "collapsed": true
   },
   "outputs": [],
   "source": [
    "power = 8\n",
    "\n",
    "#Training set\n",
    "X_poly = polyFeatures(X_train,power)\n",
    "X_poly, mu, sigma = featureNormalize(X_poly)\n",
    "\n",
    "#CrossValidation set\n",
    "X_poly_val = polyFeatures(X_val,power)\n",
    "X_poly_val, mu_val, sigma_val = featureNormalize(X_poly_val)"
   ]
  },
  {
   "cell_type": "code",
   "execution_count": 23,
   "metadata": {},
   "outputs": [
    {
     "name": "stdout",
     "output_type": "stream",
     "text": [
      "         J_train       J_cv\n",
      "0.000   0.028893  30.506607\n",
      "0.001   0.112689  10.368372\n",
      "0.003   0.170966  14.810727\n",
      "0.010   0.221479  15.074044\n",
      "0.030   0.281858  12.040890\n",
      "0.100   0.459323   7.999290\n",
      "0.300   0.921760   5.396697\n",
      "1.000   2.076187   4.696682\n",
      "2.000   3.442289   4.695240\n",
      "3.000   4.901351   5.005839\n",
      "4.000   6.466837   5.656029\n",
      "5.000   8.093938   6.576269\n",
      "6.000   9.742421   7.689077\n",
      "7.000  11.383008   8.930601\n"
     ]
    },
    {
     "data": {
      "image/png": "[encoded data removed]",
      "text/plain": [
       "<Figure size 432x288 with 1 Axes>"
      ]
     },
     "metadata": {},
     "output_type": "display_data"
    }
   ],
   "source": [
    "Lambda = [0,0.001,0.003,0.01,0.03,0.1,0.3,1,2,3,4,5,6,7]\n",
    "m,n = X_poly.shape\n",
    "J_train = []\n",
    "J_cv = []\n",
    "for elm in Lambda:\n",
    "    optweight = trainLinearReg(X_poly,y_train,elm)\n",
    "    #Training Costfunction\n",
    "    a,_ = linearRegCostFunction(optweight,X_poly,y_train.ravel(),lambda_=0.0)\n",
    "    J_train.append(a)\n",
    "    #CrossValidation function\n",
    "    b,_ = linearRegCostFunction(optweight,X_poly_val,y_val.ravel(),lambda_=0.0)\n",
    "    J_cv.append(b)\n",
    "#J_train,J_cv\n",
    "\n",
    "results = pd.DataFrame(J_train,columns=['J_train'],index=Lambda)\n",
    "results['J_cv'] = J_cv\n",
    "print(results.head(len(Lambda)))\n",
    "plt.figure()\n",
    "plt.plot(Lambda,J_train);\n",
    "plt.plot(Lambda,J_cv);\n",
    "plt.legend(['Jtrain','Jcv']);\n",
    "plt.ylabel('Error');\n",
    "plt.xlabel('Lambda value');"
   ]
  },
  {
   "cell_type": "markdown",
   "metadata": {},
   "source": [
    "In this figure, we can see that the best value of λ is around 3. Due to randomness in the training and validation splits of the dataset, the cross validation error can sometimes be lower than the training error."
   ]
  },
  {
   "cell_type": "markdown",
   "metadata": {},
   "source": [
    "## Computing Test Set Error\n",
    ">To get a better indication of the model’s performance in the real world, it is important to evaluate the “final” model on a test set that was not used in any part of training (that is, it was neither used to select the λ parameters, nor to learn the model parameters θ).\n",
    "You should compute the test error using the best value of λ you found. In our cross validation, we obtained a test error of 3.8599 for λ = 3."
   ]
  },
  {
   "cell_type": "code",
   "execution_count": 24,
   "metadata": {
    "collapsed": true
   },
   "outputs": [],
   "source": [
    "power = 8\n",
    "\n",
    "#Training set\n",
    "X_poly = polyFeatures(X_train,power)\n",
    "X_poly, mu, sigma = featureNormalize(X_poly)\n",
    "\n",
    "#CrossValidation set\n",
    "X_poly_val = polyFeatures(X_val,power)\n",
    "X_poly_val, mu_val, sigma_val = featureNormalize(X_poly_val)\n",
    "\n",
    "#Test Set\n",
    "X_poly_test = polyFeatures(X_test,power)\n",
    "X_poly_test, mu_test, sigma_test = featureNormalize(X_poly_test)"
   ]
  },
  {
   "cell_type": "code",
   "execution_count": 25,
   "metadata": {},
   "outputs": [
    {
     "name": "stdout",
     "output_type": "stream",
     "text": [
      "My test error is of 10.433127948343127\n"
     ]
    }
   ],
   "source": [
    "lambda_ = 1\n",
    "optweight = trainLinearReg(X_poly,y_train,lambda_)\n",
    "\n",
    "J_test, _ = linearRegCostFunction(optweight,X_poly_test,y_test.ravel(),lambda_)\n",
    "\n",
    "print('My test error is of',J_test)"
   ]
  }
 ],
 "metadata": {
  "kernelspec": {
   "display_name": "Python 3",
   "language": "python",
   "name": "python3"
  },
  "language_info": {
   "codemirror_mode": {
    "name": "ipython",
    "version": 3
   },
   "file_extension": ".py",
   "mimetype": "text/x-python",
   "name": "python",
   "nbconvert_exporter": "python",
   "pygments_lexer": "ipython3",
   "version": "3.6.8"
  }
 },
 "nbformat": 4,
 "nbformat_minor": 2
}
